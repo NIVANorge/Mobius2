{
 "cells": [
  {
   "cell_type": "code",
   "execution_count": 1,
   "id": "f42f0c10",
   "metadata": {},
   "outputs": [
    {
     "ename": "SyntaxError",
     "evalue": "invalid syntax (<ipython-input-1-168d508b2a42>, line 3)",
     "output_type": "error",
     "traceback": [
      "\u001b[1;36m  File \u001b[1;32m\"<ipython-input-1-168d508b2a42>\"\u001b[1;36m, line \u001b[1;32m3\u001b[0m\n\u001b[1;33m    import * from mobipy\u001b[0m\n\u001b[1;37m           ^\u001b[0m\n\u001b[1;31mSyntaxError\u001b[0m\u001b[1;31m:\u001b[0m invalid syntax\n"
     ]
    }
   ],
   "source": [
    "import sys\n",
    "sys.path.append('../')\n",
    "import mobipy\n",
    "from mobipy import conc\n",
    "import matplotlib.pyplot as plt"
   ]
  },
  {
   "cell_type": "code",
   "execution_count": null,
   "id": "9e737b50",
   "metadata": {},
   "outputs": [],
   "source": [
    "app = Model_Application.build_from_model_and_data_file('models/simplyc_model.txt', 'models/simplyq_data.dat')"
   ]
  },
  {
   "cell_type": "code",
   "execution_count": null,
   "id": "d7ff899b",
   "metadata": {},
   "outputs": [],
   "source": [
    "app.run()"
   ]
  },
  {
   "cell_type": "code",
   "execution_count": null,
   "id": "6d074dc0",
   "metadata": {},
   "outputs": [],
   "source": [
    "air_temp = app.sn.air.temp[[]]\n",
    "soil_temp = app.st.soil.temp[['Arable']]\n",
    "\n",
    "air_temp = air_temp[air_temp.index < '1988-1-1']\n",
    "\n",
    "fig,ax = plt.subplots(1,1)\n",
    "fig.set_size_inches(20,5)\n",
    "\n",
    "air_temp.plot(ax=ax)\n",
    "soil_temp.plot(ax=ax)\n",
    "ax.legend()"
   ]
  },
  {
   "cell_type": "code",
   "execution_count": null,
   "id": "3ef0d915",
   "metadata": {},
   "outputs": [],
   "source": [
    "river_doc      = app.river.water.oc[[\"Coull\"]]\n",
    "river_doc_conc = conc(app.river.water.oc)[[\"Coull\"]]\n",
    "\n",
    "fig,ax = plt.subplots(2,1)\n",
    "fig.set_size_inches(20,10)\n",
    "\n",
    "river_doc.plot(ax=ax[0])\n",
    "river_doc_conc.plot(ax=ax[1])\n",
    "ax[0].legend()\n",
    "ax[1].legend()"
   ]
  },
  {
   "cell_type": "code",
   "execution_count": null,
   "id": "54ab8365",
   "metadata": {},
   "outputs": [],
   "source": [
    "before = app.river.water[[\"Coull\"]]     # Read the time series of river.water (volume)\n",
    "app.sw.bfi[[]] = 0.1                    # Set base flow index to 0.1\n",
    "app.sw.tc_s[['Arable']] = 5             # Set water time constant for Arable land class to 5\n",
    "app.run()\n",
    "after = app.river.water[[\"Coull\"]]      # Read the time series again.\n",
    "\n",
    "fig,ax = plt.subplots(1,1)\n",
    "fig.set_size_inches(20,5)\n",
    "\n",
    "before.plot(ax=ax)\n",
    "after.plot(ax=ax)\n",
    "ax.legend()"
   ]
  }
 ],
 "metadata": {
  "kernelspec": {
   "display_name": "Python 3",
   "language": "python",
   "name": "python3"
  },
  "language_info": {
   "codemirror_mode": {
    "name": "ipython",
    "version": 3
   },
   "file_extension": ".py",
   "mimetype": "text/x-python",
   "name": "python",
   "nbconvert_exporter": "python",
   "pygments_lexer": "ipython3",
   "version": "3.8.8"
  }
 },
 "nbformat": 4,
 "nbformat_minor": 5
}
