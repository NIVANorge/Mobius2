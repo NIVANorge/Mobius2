{
 "cells": [
  {
   "cell_type": "code",
   "execution_count": 1,
   "id": "b72a6bc2",
   "metadata": {},
   "outputs": [],
   "source": [
    "import pandas as pd\n",
    "import numpy as np\n",
    "import matplotlib.pyplot as plt"
   ]
  },
  {
   "cell_type": "code",
   "execution_count": 2,
   "id": "46764be9",
   "metadata": {},
   "outputs": [
    {
     "data": {
      "text/html": [
       "<div>\n",
       "<style scoped>\n",
       "    .dataframe tbody tr th:only-of-type {\n",
       "        vertical-align: middle;\n",
       "    }\n",
       "\n",
       "    .dataframe tbody tr th {\n",
       "        vertical-align: top;\n",
       "    }\n",
       "\n",
       "    .dataframe thead th {\n",
       "        text-align: right;\n",
       "    }\n",
       "</style>\n",
       "<table border=\"1\" class=\"dataframe\">\n",
       "  <thead>\n",
       "    <tr style=\"text-align: right;\">\n",
       "      <th></th>\n",
       "      <th>Test[]</th>\n",
       "      <th>Record[]</th>\n",
       "      <th>Stuff[0 ]</th>\n",
       "      <th>Stuff[1 ]</th>\n",
       "      <th>Stuff[2 ]</th>\n",
       "      <th>The flow[0 ]</th>\n",
       "      <th>The flow[1 ]</th>\n",
       "      <th>The flow[2 ]</th>\n",
       "      <th>in_flux_neighbor[0 ]</th>\n",
       "      <th>in_flux_neighbor[1 ]</th>\n",
       "      <th>in_flux_neighbor[2 ]</th>\n",
       "      <th>Unnamed: 11</th>\n",
       "      <th>Control</th>\n",
       "    </tr>\n",
       "  </thead>\n",
       "  <tbody>\n",
       "    <tr>\n",
       "      <th>1</th>\n",
       "      <td>-32.345962</td>\n",
       "      <td>3.157091</td>\n",
       "      <td>9.048374</td>\n",
       "      <td>16.374615</td>\n",
       "      <td>4.553522</td>\n",
       "      <td>0.904837</td>\n",
       "      <td>3.274923</td>\n",
       "      <td>0.045535</td>\n",
       "      <td>0.0</td>\n",
       "      <td>0.0</td>\n",
       "      <td>4.179760</td>\n",
       "      <td>NaN</td>\n",
       "      <td>0.684105</td>\n",
       "    </tr>\n",
       "    <tr>\n",
       "      <th>2</th>\n",
       "      <td>-25.297738</td>\n",
       "      <td>3.168071</td>\n",
       "      <td>8.187308</td>\n",
       "      <td>13.406401</td>\n",
       "      <td>8.317848</td>\n",
       "      <td>0.818731</td>\n",
       "      <td>2.681280</td>\n",
       "      <td>0.083178</td>\n",
       "      <td>0.0</td>\n",
       "      <td>0.0</td>\n",
       "      <td>3.500011</td>\n",
       "      <td>NaN</td>\n",
       "      <td>0.791859</td>\n",
       "    </tr>\n",
       "    <tr>\n",
       "      <th>3</th>\n",
       "      <td>-20.769057</td>\n",
       "      <td>3.174121</td>\n",
       "      <td>7.408182</td>\n",
       "      <td>10.976233</td>\n",
       "      <td>11.427917</td>\n",
       "      <td>0.740818</td>\n",
       "      <td>2.195247</td>\n",
       "      <td>0.114279</td>\n",
       "      <td>0.0</td>\n",
       "      <td>0.0</td>\n",
       "      <td>2.936065</td>\n",
       "      <td>NaN</td>\n",
       "      <td>0.787441</td>\n",
       "    </tr>\n",
       "    <tr>\n",
       "      <th>4</th>\n",
       "      <td>-17.613380</td>\n",
       "      <td>3.175200</td>\n",
       "      <td>6.703200</td>\n",
       "      <td>8.986579</td>\n",
       "      <td>13.995026</td>\n",
       "      <td>0.670320</td>\n",
       "      <td>1.797316</td>\n",
       "      <td>0.139950</td>\n",
       "      <td>0.0</td>\n",
       "      <td>0.0</td>\n",
       "      <td>2.467636</td>\n",
       "      <td>NaN</td>\n",
       "      <td>0.684844</td>\n",
       "    </tr>\n",
       "    <tr>\n",
       "      <th>5</th>\n",
       "      <td>-15.288201</td>\n",
       "      <td>3.171267</td>\n",
       "      <td>6.065307</td>\n",
       "      <td>7.357589</td>\n",
       "      <td>16.111038</td>\n",
       "      <td>0.606531</td>\n",
       "      <td>1.471518</td>\n",
       "      <td>0.161110</td>\n",
       "      <td>0.0</td>\n",
       "      <td>0.0</td>\n",
       "      <td>2.078048</td>\n",
       "      <td>NaN</td>\n",
       "      <td>0.615812</td>\n",
       "    </tr>\n",
       "    <tr>\n",
       "      <th>...</th>\n",
       "      <td>...</td>\n",
       "      <td>...</td>\n",
       "      <td>...</td>\n",
       "      <td>...</td>\n",
       "      <td>...</td>\n",
       "      <td>...</td>\n",
       "      <td>...</td>\n",
       "      <td>...</td>\n",
       "      <td>...</td>\n",
       "      <td>...</td>\n",
       "      <td>...</td>\n",
       "      <td>...</td>\n",
       "      <td>...</td>\n",
       "    </tr>\n",
       "    <tr>\n",
       "      <th>1943</th>\n",
       "      <td>-0.602114</td>\n",
       "      <td>26.310621</td>\n",
       "      <td>0.000000</td>\n",
       "      <td>0.000000</td>\n",
       "      <td>0.000000</td>\n",
       "      <td>0.000000</td>\n",
       "      <td>0.000000</td>\n",
       "      <td>0.000000</td>\n",
       "      <td>0.0</td>\n",
       "      <td>0.0</td>\n",
       "      <td>0.000000</td>\n",
       "      <td>NaN</td>\n",
       "      <td>0.843584</td>\n",
       "    </tr>\n",
       "    <tr>\n",
       "      <th>1944</th>\n",
       "      <td>-0.590453</td>\n",
       "      <td>26.320627</td>\n",
       "      <td>0.000000</td>\n",
       "      <td>0.000000</td>\n",
       "      <td>0.000000</td>\n",
       "      <td>0.000000</td>\n",
       "      <td>0.000000</td>\n",
       "      <td>0.000000</td>\n",
       "      <td>0.0</td>\n",
       "      <td>0.0</td>\n",
       "      <td>0.000000</td>\n",
       "      <td>NaN</td>\n",
       "      <td>0.771107</td>\n",
       "    </tr>\n",
       "    <tr>\n",
       "      <th>1945</th>\n",
       "      <td>-0.578909</td>\n",
       "      <td>26.330609</td>\n",
       "      <td>0.000000</td>\n",
       "      <td>0.000000</td>\n",
       "      <td>0.000000</td>\n",
       "      <td>0.000000</td>\n",
       "      <td>0.000000</td>\n",
       "      <td>0.000000</td>\n",
       "      <td>0.0</td>\n",
       "      <td>0.0</td>\n",
       "      <td>0.000000</td>\n",
       "      <td>NaN</td>\n",
       "      <td>0.745593</td>\n",
       "    </tr>\n",
       "    <tr>\n",
       "      <th>1946</th>\n",
       "      <td>-0.567480</td>\n",
       "      <td>26.340568</td>\n",
       "      <td>0.000000</td>\n",
       "      <td>0.000000</td>\n",
       "      <td>0.000000</td>\n",
       "      <td>0.000000</td>\n",
       "      <td>0.000000</td>\n",
       "      <td>0.000000</td>\n",
       "      <td>0.0</td>\n",
       "      <td>0.0</td>\n",
       "      <td>0.000000</td>\n",
       "      <td>NaN</td>\n",
       "      <td>0.721197</td>\n",
       "    </tr>\n",
       "    <tr>\n",
       "      <th>1947</th>\n",
       "      <td>-0.556162</td>\n",
       "      <td>26.350504</td>\n",
       "      <td>0.000000</td>\n",
       "      <td>0.000000</td>\n",
       "      <td>0.000000</td>\n",
       "      <td>0.000000</td>\n",
       "      <td>0.000000</td>\n",
       "      <td>0.000000</td>\n",
       "      <td>0.0</td>\n",
       "      <td>0.0</td>\n",
       "      <td>0.000000</td>\n",
       "      <td>NaN</td>\n",
       "      <td>0.697654</td>\n",
       "    </tr>\n",
       "  </tbody>\n",
       "</table>\n",
       "<p>1947 rows × 13 columns</p>\n",
       "</div>"
      ],
      "text/plain": [
       "         Test[]   Record[]  Stuff[0 ]  Stuff[1 ]  Stuff[2 ]  The flow[0 ]  \\\n",
       "1    -32.345962   3.157091   9.048374  16.374615   4.553522      0.904837   \n",
       "2    -25.297738   3.168071   8.187308  13.406401   8.317848      0.818731   \n",
       "3    -20.769057   3.174121   7.408182  10.976233  11.427917      0.740818   \n",
       "4    -17.613380   3.175200   6.703200   8.986579  13.995026      0.670320   \n",
       "5    -15.288201   3.171267   6.065307   7.357589  16.111038      0.606531   \n",
       "...         ...        ...        ...        ...        ...           ...   \n",
       "1943  -0.602114  26.310621   0.000000   0.000000   0.000000      0.000000   \n",
       "1944  -0.590453  26.320627   0.000000   0.000000   0.000000      0.000000   \n",
       "1945  -0.578909  26.330609   0.000000   0.000000   0.000000      0.000000   \n",
       "1946  -0.567480  26.340568   0.000000   0.000000   0.000000      0.000000   \n",
       "1947  -0.556162  26.350504   0.000000   0.000000   0.000000      0.000000   \n",
       "\n",
       "      The flow[1 ]  The flow[2 ]  in_flux_neighbor[0 ]  in_flux_neighbor[1 ]  \\\n",
       "1         3.274923      0.045535                   0.0                   0.0   \n",
       "2         2.681280      0.083178                   0.0                   0.0   \n",
       "3         2.195247      0.114279                   0.0                   0.0   \n",
       "4         1.797316      0.139950                   0.0                   0.0   \n",
       "5         1.471518      0.161110                   0.0                   0.0   \n",
       "...            ...           ...                   ...                   ...   \n",
       "1943      0.000000      0.000000                   0.0                   0.0   \n",
       "1944      0.000000      0.000000                   0.0                   0.0   \n",
       "1945      0.000000      0.000000                   0.0                   0.0   \n",
       "1946      0.000000      0.000000                   0.0                   0.0   \n",
       "1947      0.000000      0.000000                   0.0                   0.0   \n",
       "\n",
       "      in_flux_neighbor[2 ]  Unnamed: 11   Control  \n",
       "1                 4.179760          NaN  0.684105  \n",
       "2                 3.500011          NaN  0.791859  \n",
       "3                 2.936065          NaN  0.787441  \n",
       "4                 2.467636          NaN  0.684844  \n",
       "5                 2.078048          NaN  0.615812  \n",
       "...                    ...          ...       ...  \n",
       "1943              0.000000          NaN  0.843584  \n",
       "1944              0.000000          NaN  0.771107  \n",
       "1945              0.000000          NaN  0.745593  \n",
       "1946              0.000000          NaN  0.721197  \n",
       "1947              0.000000          NaN  0.697654  \n",
       "\n",
       "[1947 rows x 13 columns]"
      ]
     },
     "execution_count": 2,
     "metadata": {},
     "output_type": "execute_result"
    }
   ],
   "source": [
    "df = pd.read_csv('results.dat', sep='\\t')\n",
    "df.drop(labels=0, inplace=True)\n",
    "df_sq = pd.read_csv('simplyq_out.txt', sep='\\t')\n",
    "df['Control'] = df_sq['Reach flow']\n",
    "df"
   ]
  },
  {
   "cell_type": "code",
   "execution_count": 3,
   "id": "89eaee9f",
   "metadata": {},
   "outputs": [
    {
     "data": {
      "text/plain": [
       "<AxesSubplot:>"
      ]
     },
     "execution_count": 3,
     "metadata": {},
     "output_type": "execute_result"
    },
    {
     "data": {
      "image/png": "[encoded data removed]",
      "text/plain": [
       "<Figure size 432x288 with 1 Axes>"
      ]
     },
     "metadata": {
      "needs_background": "light"
     },
     "output_type": "display_data"
    }
   ],
   "source": [
    "df[['Test[]']].plot()"
   ]
  },
  {
   "cell_type": "code",
   "execution_count": 4,
   "id": "3aa588d8",
   "metadata": {
    "scrolled": true
   },
   "outputs": [
    {
     "ename": "KeyError",
     "evalue": "\"['Reach flow[0 ]'] not in index\"",
     "output_type": "error",
     "traceback": [
      "\u001b[1;31m---------------------------------------------------------------------------\u001b[0m",
      "\u001b[1;31mKeyError\u001b[0m                                  Traceback (most recent call last)",
      "\u001b[1;32m<ipython-input-4-fe4f4f85c07e>\u001b[0m in \u001b[0;36m<module>\u001b[1;34m\u001b[0m\n\u001b[0;32m      1\u001b[0m \u001b[0mfig\u001b[0m\u001b[1;33m,\u001b[0m\u001b[0max\u001b[0m \u001b[1;33m=\u001b[0m \u001b[0mplt\u001b[0m\u001b[1;33m.\u001b[0m\u001b[0msubplots\u001b[0m\u001b[1;33m(\u001b[0m\u001b[1;36m2\u001b[0m\u001b[1;33m,\u001b[0m\u001b[1;36m1\u001b[0m\u001b[1;33m)\u001b[0m\u001b[1;33m\u001b[0m\u001b[1;33m\u001b[0m\u001b[0m\n\u001b[0;32m      2\u001b[0m \u001b[0mfig\u001b[0m\u001b[1;33m.\u001b[0m\u001b[0mset_size_inches\u001b[0m\u001b[1;33m(\u001b[0m\u001b[1;36m20\u001b[0m\u001b[1;33m,\u001b[0m\u001b[1;36m10\u001b[0m\u001b[1;33m)\u001b[0m\u001b[1;33m\u001b[0m\u001b[1;33m\u001b[0m\u001b[0m\n\u001b[1;32m----> 3\u001b[1;33m \u001b[0mdf\u001b[0m\u001b[1;33m[\u001b[0m\u001b[1;33m[\u001b[0m\u001b[1;34m'Reach flow[0 ]'\u001b[0m\u001b[1;33m,\u001b[0m\u001b[1;34m'Control'\u001b[0m\u001b[1;33m]\u001b[0m\u001b[1;33m]\u001b[0m\u001b[1;33m.\u001b[0m\u001b[0mplot\u001b[0m\u001b[1;33m(\u001b[0m\u001b[0max\u001b[0m\u001b[1;33m=\u001b[0m\u001b[0max\u001b[0m\u001b[1;33m[\u001b[0m\u001b[1;36m0\u001b[0m\u001b[1;33m]\u001b[0m\u001b[1;33m)\u001b[0m\u001b[1;33m\u001b[0m\u001b[1;33m\u001b[0m\u001b[0m\n\u001b[0m\u001b[0;32m      4\u001b[0m \u001b[0mdf\u001b[0m\u001b[1;33m[\u001b[0m\u001b[1;33m[\u001b[0m\u001b[1;34m'Reach flow[1 ]'\u001b[0m\u001b[1;33m]\u001b[0m\u001b[1;33m]\u001b[0m\u001b[1;33m.\u001b[0m\u001b[0mplot\u001b[0m\u001b[1;33m(\u001b[0m\u001b[0max\u001b[0m\u001b[1;33m=\u001b[0m\u001b[0max\u001b[0m\u001b[1;33m[\u001b[0m\u001b[1;36m1\u001b[0m\u001b[1;33m]\u001b[0m\u001b[1;33m)\u001b[0m\u001b[1;33m\u001b[0m\u001b[1;33m\u001b[0m\u001b[0m\n",
      "\u001b[1;32m~\\Anaconda3\\lib\\site-packages\\pandas\\core\\frame.py\u001b[0m in \u001b[0;36m__getitem__\u001b[1;34m(self, key)\u001b[0m\n\u001b[0;32m   3028\u001b[0m             \u001b[1;32mif\u001b[0m \u001b[0mis_iterator\u001b[0m\u001b[1;33m(\u001b[0m\u001b[0mkey\u001b[0m\u001b[1;33m)\u001b[0m\u001b[1;33m:\u001b[0m\u001b[1;33m\u001b[0m\u001b[1;33m\u001b[0m\u001b[0m\n\u001b[0;32m   3029\u001b[0m                 \u001b[0mkey\u001b[0m \u001b[1;33m=\u001b[0m \u001b[0mlist\u001b[0m\u001b[1;33m(\u001b[0m\u001b[0mkey\u001b[0m\u001b[1;33m)\u001b[0m\u001b[1;33m\u001b[0m\u001b[1;33m\u001b[0m\u001b[0m\n\u001b[1;32m-> 3030\u001b[1;33m             \u001b[0mindexer\u001b[0m \u001b[1;33m=\u001b[0m \u001b[0mself\u001b[0m\u001b[1;33m.\u001b[0m\u001b[0mloc\u001b[0m\u001b[1;33m.\u001b[0m\u001b[0m_get_listlike_indexer\u001b[0m\u001b[1;33m(\u001b[0m\u001b[0mkey\u001b[0m\u001b[1;33m,\u001b[0m \u001b[0maxis\u001b[0m\u001b[1;33m=\u001b[0m\u001b[1;36m1\u001b[0m\u001b[1;33m,\u001b[0m \u001b[0mraise_missing\u001b[0m\u001b[1;33m=\u001b[0m\u001b[1;32mTrue\u001b[0m\u001b[1;33m)\u001b[0m\u001b[1;33m[\u001b[0m\u001b[1;36m1\u001b[0m\u001b[1;33m]\u001b[0m\u001b[1;33m\u001b[0m\u001b[1;33m\u001b[0m\u001b[0m\n\u001b[0m\u001b[0;32m   3031\u001b[0m \u001b[1;33m\u001b[0m\u001b[0m\n\u001b[0;32m   3032\u001b[0m         \u001b[1;31m# take() does not accept boolean indexers\u001b[0m\u001b[1;33m\u001b[0m\u001b[1;33m\u001b[0m\u001b[1;33m\u001b[0m\u001b[0m\n",
      "\u001b[1;32m~\\Anaconda3\\lib\\site-packages\\pandas\\core\\indexing.py\u001b[0m in \u001b[0;36m_get_listlike_indexer\u001b[1;34m(self, key, axis, raise_missing)\u001b[0m\n\u001b[0;32m   1264\u001b[0m             \u001b[0mkeyarr\u001b[0m\u001b[1;33m,\u001b[0m \u001b[0mindexer\u001b[0m\u001b[1;33m,\u001b[0m \u001b[0mnew_indexer\u001b[0m \u001b[1;33m=\u001b[0m \u001b[0max\u001b[0m\u001b[1;33m.\u001b[0m\u001b[0m_reindex_non_unique\u001b[0m\u001b[1;33m(\u001b[0m\u001b[0mkeyarr\u001b[0m\u001b[1;33m)\u001b[0m\u001b[1;33m\u001b[0m\u001b[1;33m\u001b[0m\u001b[0m\n\u001b[0;32m   1265\u001b[0m \u001b[1;33m\u001b[0m\u001b[0m\n\u001b[1;32m-> 1266\u001b[1;33m         \u001b[0mself\u001b[0m\u001b[1;33m.\u001b[0m\u001b[0m_validate_read_indexer\u001b[0m\u001b[1;33m(\u001b[0m\u001b[0mkeyarr\u001b[0m\u001b[1;33m,\u001b[0m \u001b[0mindexer\u001b[0m\u001b[1;33m,\u001b[0m \u001b[0maxis\u001b[0m\u001b[1;33m,\u001b[0m \u001b[0mraise_missing\u001b[0m\u001b[1;33m=\u001b[0m\u001b[0mraise_missing\u001b[0m\u001b[1;33m)\u001b[0m\u001b[1;33m\u001b[0m\u001b[1;33m\u001b[0m\u001b[0m\n\u001b[0m\u001b[0;32m   1267\u001b[0m         \u001b[1;32mreturn\u001b[0m \u001b[0mkeyarr\u001b[0m\u001b[1;33m,\u001b[0m \u001b[0mindexer\u001b[0m\u001b[1;33m\u001b[0m\u001b[1;33m\u001b[0m\u001b[0m\n\u001b[0;32m   1268\u001b[0m \u001b[1;33m\u001b[0m\u001b[0m\n",
      "\u001b[1;32m~\\Anaconda3\\lib\\site-packages\\pandas\\core\\indexing.py\u001b[0m in \u001b[0;36m_validate_read_indexer\u001b[1;34m(self, key, indexer, axis, raise_missing)\u001b[0m\n\u001b[0;32m   1314\u001b[0m             \u001b[1;32mif\u001b[0m \u001b[0mraise_missing\u001b[0m\u001b[1;33m:\u001b[0m\u001b[1;33m\u001b[0m\u001b[1;33m\u001b[0m\u001b[0m\n\u001b[0;32m   1315\u001b[0m                 \u001b[0mnot_found\u001b[0m \u001b[1;33m=\u001b[0m \u001b[0mlist\u001b[0m\u001b[1;33m(\u001b[0m\u001b[0mset\u001b[0m\u001b[1;33m(\u001b[0m\u001b[0mkey\u001b[0m\u001b[1;33m)\u001b[0m \u001b[1;33m-\u001b[0m \u001b[0mset\u001b[0m\u001b[1;33m(\u001b[0m\u001b[0max\u001b[0m\u001b[1;33m)\u001b[0m\u001b[1;33m)\u001b[0m\u001b[1;33m\u001b[0m\u001b[1;33m\u001b[0m\u001b[0m\n\u001b[1;32m-> 1316\u001b[1;33m                 \u001b[1;32mraise\u001b[0m \u001b[0mKeyError\u001b[0m\u001b[1;33m(\u001b[0m\u001b[1;34mf\"{not_found} not in index\"\u001b[0m\u001b[1;33m)\u001b[0m\u001b[1;33m\u001b[0m\u001b[1;33m\u001b[0m\u001b[0m\n\u001b[0m\u001b[0;32m   1317\u001b[0m \u001b[1;33m\u001b[0m\u001b[0m\n\u001b[0;32m   1318\u001b[0m             \u001b[0mnot_found\u001b[0m \u001b[1;33m=\u001b[0m \u001b[0mkey\u001b[0m\u001b[1;33m[\u001b[0m\u001b[0mmissing_mask\u001b[0m\u001b[1;33m]\u001b[0m\u001b[1;33m\u001b[0m\u001b[1;33m\u001b[0m\u001b[0m\n",
      "\u001b[1;31mKeyError\u001b[0m: \"['Reach flow[0 ]'] not in index\""
     ]
    },
    {
     "data": {
      "image/png": "[encoded data removed]",
      "text/plain": [
       "<Figure size 1440x720 with 2 Axes>"
      ]
     },
     "metadata": {
      "needs_background": "light"
     },
     "output_type": "display_data"
    }
   ],
   "source": [
    "fig,ax = plt.subplots(2,1)\n",
    "fig.set_size_inches(20,10)\n",
    "df[['Reach flow[0 ]','Control']].plot(ax=ax[0])\n",
    "df[['Reach flow[1 ]']].plot(ax=ax[1])"
   ]
  },
  {
   "cell_type": "code",
   "execution_count": null,
   "id": "0f9dc24f",
   "metadata": {},
   "outputs": [],
   "source": [
    "df[['Snow water[]']].plot()"
   ]
  },
  {
   "cell_type": "code",
   "execution_count": null,
   "id": "e6bba572",
   "metadata": {
    "scrolled": true
   },
   "outputs": [],
   "source": [
    "df[['Soil runoff[1 ]', 'aggregate(Soil runoff)[0 ]']].plot()"
   ]
  },
  {
   "cell_type": "code",
   "execution_count": null,
   "id": "b8f8567a",
   "metadata": {
    "scrolled": true
   },
   "outputs": [],
   "source": [
    "df[['conc(Suspended sediments)[0 ]']].plot()"
   ]
  },
  {
   "cell_type": "code",
   "execution_count": null,
   "id": "19cfd2f7",
   "metadata": {},
   "outputs": [],
   "source": [
    "df[['Sediment mobilization[0 ]']].plot()"
   ]
  },
  {
   "cell_type": "code",
   "execution_count": null,
   "id": "d37f3dcf",
   "metadata": {},
   "outputs": [],
   "source": [
    "df[['Soil temperature[0 ]']].plot()"
   ]
  },
  {
   "cell_type": "code",
   "execution_count": null,
   "id": "28c92195",
   "metadata": {},
   "outputs": [],
   "source": [
    "df[['conc(Deep soil DOC)[0 ]', 'conc(Deep soil DOC)[1 ]']].plot()\n",
    "df[['conc(River water DOC)[0 ]', 'conc(River water DOC)[1 ]']].plot()"
   ]
  },
  {
   "cell_type": "code",
   "execution_count": null,
   "id": "fa2e5f5b",
   "metadata": {},
   "outputs": [],
   "source": [
    "df[['Groundwater runoff[0 ]']].plot()"
   ]
  },
  {
   "cell_type": "code",
   "execution_count": null,
   "id": "b957293a",
   "metadata": {},
   "outputs": [],
   "source": [
    "df[['Soil water flow[0 ]']].plot()"
   ]
  },
  {
   "cell_type": "code",
   "execution_count": null,
   "id": "17e16faf",
   "metadata": {},
   "outputs": [],
   "source": [
    "df[['Quick flow[0 ]']].plot()"
   ]
  },
  {
   "cell_type": "code",
   "execution_count": null,
   "id": "d3de9ab7",
   "metadata": {},
   "outputs": [],
   "source": [
    "(df['In flow[]']/(51.7*1000) - df['Groundwater runoff[]'] - df['Soil runoff[0 ]'] - df['Quick flow[0 ]']).plot()"
   ]
  },
  {
   "cell_type": "code",
   "execution_count": null,
   "id": "a15fa39b",
   "metadata": {},
   "outputs": [],
   "source": [
    "df[['Reach water volume[]']].plot()"
   ]
  },
  {
   "cell_type": "code",
   "execution_count": null,
   "id": "0bc21351",
   "metadata": {},
   "outputs": [],
   "source": [
    "(df['In flow[]']/(51.7*1000) - df['Groundwater runoff[]']).plot()"
   ]
  },
  {
   "cell_type": "code",
   "execution_count": null,
   "id": "2ce5735f",
   "metadata": {},
   "outputs": [],
   "source": [
    "df['Snow depth[]'].plot()"
   ]
  },
  {
   "cell_type": "code",
   "execution_count": null,
   "id": "c5427097",
   "metadata": {},
   "outputs": [],
   "source": [
    "df['Time dependent vegetation cover factor[0 ]'].plot()"
   ]
  },
  {
   "cell_type": "code",
   "execution_count": null,
   "id": "f8798455",
   "metadata": {},
   "outputs": [],
   "source": []
  }
 ],
 "metadata": {
  "kernelspec": {
   "display_name": "Python 3",
   "language": "python",
   "name": "python3"
  },
  "language_info": {
   "codemirror_mode": {
    "name": "ipython",
    "version": 3
   },
   "file_extension": ".py",
   "mimetype": "text/x-python",
   "name": "python",
   "nbconvert_exporter": "python",
   "pygments_lexer": "ipython3",
   "version": "3.8.8"
  }
 },
 "nbformat": 4,
 "nbformat_minor": 5
}
