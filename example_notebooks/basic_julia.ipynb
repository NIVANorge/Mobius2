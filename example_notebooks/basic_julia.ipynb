{
 "cells": [
  {
   "cell_type": "code",
   "execution_count": 1,
   "id": "f86e0835-8d2c-42fc-bf3a-3c1546df0b0a",
   "metadata": {},
   "outputs": [],
   "source": [
    "include(\"../mobius_jl/mobius.jl\")\n",
    "using .mobius\n",
    "using Plots"
   ]
  },
  {
   "cell_type": "code",
   "execution_count": 2,
   "id": "6c75f943-ae0d-4d4d-a3f9-28ceb827bd1e",
   "metadata": {},
   "outputs": [
    {
     "ename": "LoadError",
     "evalue": "MethodError: no method matching setup_model(::String, ::String; store_transport_fluxes::Bool)\n\n\u001b[0mClosest candidates are:\n\u001b[0m  setup_model(::String, ::String, \u001b[91m::Bool\u001b[39m, \u001b[91m::Bool\u001b[39m, \u001b[91m::Bool\u001b[39m)\u001b[91m got unsupported keyword argument \"store_transport_fluxes\"\u001b[39m\n\u001b[0m\u001b[90m   @\u001b[39m \u001b[35mMain.mobius\u001b[39m \u001b[90mC:\\Data\\Mobius2\\mobius_jl\\\u001b[39m\u001b[90m\u001b[4mmobius.jl:106\u001b[24m\u001b[39m\n\u001b[0m  setup_model(::String, ::String, \u001b[91m::Bool\u001b[39m, \u001b[91m::Bool\u001b[39m)\u001b[91m got unsupported keyword argument \"store_transport_fluxes\"\u001b[39m\n\u001b[0m\u001b[90m   @\u001b[39m \u001b[35mMain.mobius\u001b[39m \u001b[90mC:\\Data\\Mobius2\\mobius_jl\\\u001b[39m\u001b[90m\u001b[4mmobius.jl:106\u001b[24m\u001b[39m\n\u001b[0m  setup_model(::String, ::String, \u001b[91m::Bool\u001b[39m)\u001b[91m got unsupported keyword argument \"store_transport_fluxes\"\u001b[39m\n\u001b[0m\u001b[90m   @\u001b[39m \u001b[35mMain.mobius\u001b[39m \u001b[90mC:\\Data\\Mobius2\\mobius_jl\\\u001b[39m\u001b[90m\u001b[4mmobius.jl:106\u001b[24m\u001b[39m\n\u001b[0m  ...\n",
     "output_type": "error",
     "traceback": [
      "MethodError: no method matching setup_model(::String, ::String; store_transport_fluxes::Bool)\n\n\u001b[0mClosest candidates are:\n\u001b[0m  setup_model(::String, ::String, \u001b[91m::Bool\u001b[39m, \u001b[91m::Bool\u001b[39m, \u001b[91m::Bool\u001b[39m)\u001b[91m got unsupported keyword argument \"store_transport_fluxes\"\u001b[39m\n\u001b[0m\u001b[90m   @\u001b[39m \u001b[35mMain.mobius\u001b[39m \u001b[90mC:\\Data\\Mobius2\\mobius_jl\\\u001b[39m\u001b[90m\u001b[4mmobius.jl:106\u001b[24m\u001b[39m\n\u001b[0m  setup_model(::String, ::String, \u001b[91m::Bool\u001b[39m, \u001b[91m::Bool\u001b[39m)\u001b[91m got unsupported keyword argument \"store_transport_fluxes\"\u001b[39m\n\u001b[0m\u001b[90m   @\u001b[39m \u001b[35mMain.mobius\u001b[39m \u001b[90mC:\\Data\\Mobius2\\mobius_jl\\\u001b[39m\u001b[90m\u001b[4mmobius.jl:106\u001b[24m\u001b[39m\n\u001b[0m  setup_model(::String, ::String, \u001b[91m::Bool\u001b[39m)\u001b[91m got unsupported keyword argument \"store_transport_fluxes\"\u001b[39m\n\u001b[0m\u001b[90m   @\u001b[39m \u001b[35mMain.mobius\u001b[39m \u001b[90mC:\\Data\\Mobius2\\mobius_jl\\\u001b[39m\u001b[90m\u001b[4mmobius.jl:106\u001b[24m\u001b[39m\n\u001b[0m  ...\n",
      "",
      "Stacktrace:",
      " [1] top-level scope",
      "   @ In[2]:2"
     ]
    }
   ],
   "source": [
    "# Create a model application from model and data files\n",
    "app = setup_model(\"../models/simplyc_model.txt\", \"../models/data/simplyc_langtjern.dat\", store_transport_fluxes=true)"
   ]
  },
  {
   "cell_type": "code",
   "execution_count": 3,
   "id": "0fcfa9c2-50b3-433f-8ce6-3bca57b104d6",
   "metadata": {},
   "outputs": [
    {
     "ename": "LoadError",
     "evalue": "UndefVarError: `app` not defined",
     "output_type": "error",
     "traceback": [
      "UndefVarError: `app` not defined",
      "",
      "Stacktrace:",
      " [1] top-level scope",
      "   @ In[3]:2"
     ]
    }
   ],
   "source": [
    "# Get references to the start_date and end_date parameters and set their values\n",
    "start_date = get_entity(app, \"start_date\")\n",
    "end_date   = get_entity(app, \"end_date\")\n",
    "start_date[] = \"2005-01-01\"\n",
    "end_date[]   = \"2008-12-31\""
   ]
  },
  {
   "cell_type": "code",
   "execution_count": 4,
   "id": "7b5d0ee9-b1a8-4af8-bb40-c13f2ab81112",
   "metadata": {},
   "outputs": [
    {
     "ename": "LoadError",
     "evalue": "UndefVarError: `app` not defined",
     "output_type": "error",
     "traceback": [
      "UndefVarError: `app` not defined",
      "",
      "Stacktrace:",
      " [1] top-level scope",
      "   @ In[4]:2"
     ]
    }
   ],
   "source": [
    "# Run the model\n",
    "run_model(app)"
   ]
  },
  {
   "cell_type": "code",
   "execution_count": 5,
   "id": "8b7e587e-d2d4-41ca-b07c-dc71d40f9ee6",
   "metadata": {},
   "outputs": [
    {
     "ename": "LoadError",
     "evalue": "UndefVarError: `app` not defined",
     "output_type": "error",
     "traceback": [
      "UndefVarError: `app` not defined",
      "",
      "Stacktrace:",
      " [1] top-level scope",
      "   @ In[5]:2"
     ]
    }
   ],
   "source": [
    "# Get a reference to a state variable in the model\n",
    "flow = get_var_by_name(app, \"Reach flow flux\")\n",
    "\n",
    "# Extract a result series of that variable at a specific index (in this case river section)\n",
    "flow_results = flow[\"Inlet\"]\n",
    "dates = get_dates(flow)\n",
    "\n",
    "# Plot the result series\n",
    "plot(dates, flow_results)"
   ]
  },
  {
   "cell_type": "code",
   "execution_count": 6,
   "id": "e761fe67-8c2d-423c-8b56-e6bbc7633f73",
   "metadata": {},
   "outputs": [
    {
     "ename": "LoadError",
     "evalue": "UndefVarError: `flow` not defined",
     "output_type": "error",
     "traceback": [
      "UndefVarError: `flow` not defined",
      "",
      "Stacktrace:",
      " [1] top-level scope",
      "   @ In[6]:2"
     ]
    }
   ],
   "source": [
    "# Get the transport of organic carbon by this this river flow\n",
    "doc_flux = transport(flow, \"oc\")\n",
    "\n",
    "doc_flux_data = doc_flux[\"Inlet\"]\n",
    "\n",
    "plot(dates, doc_flux_data)"
   ]
  },
  {
   "cell_type": "code",
   "execution_count": null,
   "id": "3a106c3a-1fc1-459b-b6f9-ebdb9e616e0b",
   "metadata": {},
   "outputs": [],
   "source": []
  }
 ],
 "metadata": {
  "kernelspec": {
   "display_name": "Julia 1.10.4",
   "language": "julia",
   "name": "julia-1.10"
  },
  "language_info": {
   "file_extension": ".jl",
   "mimetype": "application/julia",
   "name": "julia",
   "version": "1.10.4"
  }
 },
 "nbformat": 4,
 "nbformat_minor": 5
}
