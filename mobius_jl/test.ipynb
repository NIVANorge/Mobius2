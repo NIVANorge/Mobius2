{
 "cells": [
  {
   "cell_type": "code",
   "execution_count": 1,
   "id": "f86e0835-8d2c-42fc-bf3a-3c1546df0b0a",
   "metadata": {},
   "outputs": [],
   "source": [
    "include(\"mobius.jl\")\n",
    "using .mobius\n",
    "using Plots"
   ]
  },
  {
   "cell_type": "code",
   "execution_count": 2,
   "id": "6c75f943-ae0d-4d4d-a3f9-28ceb827bd1e",
   "metadata": {},
   "outputs": [
    {
     "data": {
      "text/plain": [
       "Main.mobius.Model_Data(Ptr{Nothing} @0x00000249c0684dd8, true)"
      ]
     },
     "execution_count": 2,
     "metadata": {},
     "output_type": "execute_result"
    }
   ],
   "source": [
    "# Create a model application from model and data files\n",
    "app = setup_model(\"../models/simplyq_model.txt\", \"../models/data/simplyq_simple.dat\", true)"
   ]
  },
  {
   "cell_type": "code",
   "execution_count": 3,
   "id": "0fcfa9c2-50b3-433f-8ce6-3bca57b104d6",
   "metadata": {},
   "outputs": [
    {
     "data": {
      "text/plain": [
       "\"2008-12-31\""
      ]
     },
     "execution_count": 3,
     "metadata": {},
     "output_type": "execute_result"
    }
   ],
   "source": [
    "# Get references to the start_date and end_date parameters and set their values\n",
    "start_date = get_entity(app, \"start_date\")\n",
    "end_date   = get_entity(app, \"end_date\")\n",
    "start_date[] = \"2005-01-01\"\n",
    "end_date[]   = \"2008-12-31\""
   ]
  },
  {
   "cell_type": "code",
   "execution_count": 4,
   "id": "7b5d0ee9-b1a8-4af8-bb40-c13f2ab81112",
   "metadata": {},
   "outputs": [
    {
     "data": {
      "text/plain": [
       "true"
      ]
     },
     "execution_count": 4,
     "metadata": {},
     "output_type": "execute_result"
    }
   ],
   "source": [
    "# Run the model\n",
    "run_model(app)"
   ]
  },
  {
   "cell_type": "code",
   "execution_count": null,
   "id": "8b7e587e-d2d4-41ca-b07c-dc71d40f9ee6",
   "metadata": {},
   "outputs": [],
   "source": [
    "# Get a reference to a state variable in the model\n",
    "flow_var = get_var(app, [\"river\", \"water\", \"flow\"])\n",
    "# Alternatively:\n",
    "# flow_var = get_var_by_name(\"Reach flow\")\n",
    "\n",
    "# Extract a result series of that variable at a specific index (in this case river section)\n",
    "flow_results = flow_var[\"Coull\"]\n",
    "dates = get_dates(flow_var)\n",
    "\n",
    "# Plot the result series\n",
    "plot(dates, flow_results)"
   ]
  },
  {
   "cell_type": "code",
   "execution_count": null,
   "id": "e761fe67-8c2d-423c-8b56-e6bbc7633f73",
   "metadata": {},
   "outputs": [],
   "source": []
  }
 ],
 "metadata": {
  "kernelspec": {
   "display_name": "Julia 1.10.3",
   "language": "julia",
   "name": "julia-1.10"
  },
  "language_info": {
   "file_extension": ".jl",
   "mimetype": "application/julia",
   "name": "julia",
   "version": "1.10.3"
  }
 },
 "nbformat": 4,
 "nbformat_minor": 5
}
